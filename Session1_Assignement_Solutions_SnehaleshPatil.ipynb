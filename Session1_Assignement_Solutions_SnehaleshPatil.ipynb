{
 "cells": [
  {
   "cell_type": "markdown",
   "metadata": {},
   "source": [
    "# Probme Statement 1: Install Jupyter notebook and run the first program and share the screenshot of the output.\n"
   ]
  },
  {
   "cell_type": "code",
   "execution_count": 14,
   "metadata": {},
   "outputs": [
    {
     "name": "stdout",
     "output_type": "stream",
     "text": [
      "Problem 1\n",
      "\n",
      "Hello World using Pyhton3 Jupyter Notebook\n"
     ]
    }
   ],
   "source": [
    "print(\"Problem 1\\n\")\n",
    "print('Hello World using Pyhton3 Jupyter Notebook')"
   ]
  },
  {
   "cell_type": "markdown",
   "metadata": {},
   "source": [
    "# Problem Statement 2: Write a program which will find all such numbers which are divisible by 7 but are not a multiple of 5, between 2000 and 3200 (both included). The numbers obtained should be printed in a comma-separated sequence on a single line."
   ]
  },
  {
   "cell_type": "code",
   "execution_count": 1,
   "metadata": {},
   "outputs": [
    {
     "name": "stdout",
     "output_type": "stream",
     "text": [
      "Problem 2\n",
      "\n",
      "\n",
      " Output as comma seperated list of  138  elements: \n",
      "\n",
      "[2002, 2009, 2016, 2023, 2037, 2044, 2051, 2058, 2072, 2079, 2086, 2093, 2107, 2114, 2121, 2128, 2142, 2149, 2156, 2163, 2177, 2184, 2191, 2198, 2212, 2219, 2226, 2233, 2247, 2254, 2261, 2268, 2282, 2289, 2296, 2303, 2317, 2324, 2331, 2338, 2352, 2359, 2366, 2373, 2387, 2394, 2401, 2408, 2422, 2429, 2436, 2443, 2457, 2464, 2471, 2478, 2492, 2499, 2506, 2513, 2527, 2534, 2541, 2548, 2562, 2569, 2576, 2583, 2597, 2604, 2611, 2618, 2632, 2639, 2646, 2653, 2667, 2674, 2681, 2688, 2702, 2709, 2716, 2723, 2737, 2744, 2751, 2758, 2772, 2779, 2786, 2793, 2807, 2814, 2821, 2828, 2842, 2849, 2856, 2863, 2877, 2884, 2891, 2898, 2912, 2919, 2926, 2933, 2947, 2954, 2961, 2968, 2982, 2989, 2996, 3003, 3017, 3024, 3031, 3038, 3052, 3059, 3066, 3073, 3087, 3094, 3101, 3108, 3122, 3129, 3136, 3143, 3157, 3164, 3171, 3178, 3192, 3199]\n",
      "\n",
      " Output as comma seperated string of  138  elements: \n",
      "\n",
      "2002,2009,2016,2023,2037,2044,2051,2058,2072,2079,2086,2093,2107,2114,2121,2128,2142,2149,2156,2163,2177,2184,2191,2198,2212,2219,2226,2233,2247,2254,2261,2268,2282,2289,2296,2303,2317,2324,2331,2338,2352,2359,2366,2373,2387,2394,2401,2408,2422,2429,2436,2443,2457,2464,2471,2478,2492,2499,2506,2513,2527,2534,2541,2548,2562,2569,2576,2583,2597,2604,2611,2618,2632,2639,2646,2653,2667,2674,2681,2688,2702,2709,2716,2723,2737,2744,2751,2758,2772,2779,2786,2793,2807,2814,2821,2828,2842,2849,2856,2863,2877,2884,2891,2898,2912,2919,2926,2933,2947,2954,2961,2968,2982,2989,2996,3003,3017,3024,3031,3038,3052,3059,3066,3073,3087,3094,3101,3108,3122,3129,3136,3143,3157,3164,3171,3178,3192,3199\n"
     ]
    }
   ],
   "source": [
    "print(\"Problem 2\\n\")\n",
    "Cnt= 0\n",
    "string_output=''\n",
    "StartRange = 2000 # int(input (\"Provide start of range:\"))\n",
    "EndRange = 3200 # int(input (\"Provide end of range:\"))\n",
    "\n",
    "if (StartRange < EndRange ): \n",
    "    \n",
    "    lst = []\n",
    "    lst = list(range(StartRange,(EndRange+1),1))\n",
    "    out_lst =[]\n",
    "\n",
    "    for i in lst:\n",
    "        if ((i %7)==0 ) and ((i%5) !=0):\n",
    "            out_lst.append(i) # Appending output list elemnets\n",
    "            string_output=string_output+ str(i)+\",\"\n",
    "            Cnt=Cnt+1\n",
    "        else:\n",
    "            continue\n",
    "    if (string_output.endswith(\",\")): string_output=string_output.rstrip(\",\")\n",
    "    if (out_lst.count == 0):\n",
    "        print (\"No element exist in given range for\")\n",
    "    else:\n",
    "        print ('\\n Output as comma seperated list of ', Cnt, ' elements: \\n') # List output\n",
    "        print( out_lst)\n",
    "        print ('\\n Output as comma seperated string of ', Cnt, ' elements: \\n') # String output\n",
    "        print (string_output)\n",
    "else:\n",
    "    print(\"Sorry! Wrong input. Pleae re-run the code with correct range input.\")"
   ]
  },
  {
   "cell_type": "markdown",
   "metadata": {},
   "source": [
    "# Problem Statement 3: Accept user's First Name and Last Name and reverse the sequence in ouput"
   ]
  },
  {
   "cell_type": "code",
   "execution_count": 2,
   "metadata": {},
   "outputs": [
    {
     "name": "stdout",
     "output_type": "stream",
     "text": [
      "Problem 3\n",
      "\n",
      "Please provide your first name:Sneh\n",
      "Please provide your last name:Patil\n",
      "Your name in reverse order is: Patil Sneh\n"
     ]
    }
   ],
   "source": [
    "print(\"Problem 3\\n\")\n",
    "FName = input ('Please provide your first name:')\n",
    "LName = input ('Please provide your last name:')\n",
    "print ('Your name in reverse order is:', LName+' '+FName)"
   ]
  },
  {
   "cell_type": "markdown",
   "metadata": {},
   "source": [
    "# Problem Statement 4 : Volumen of sphere with radius as 12 cm"
   ]
  },
  {
   "cell_type": "code",
   "execution_count": 3,
   "metadata": {},
   "outputs": [
    {
     "name": "stdout",
     "output_type": "stream",
     "text": [
      "Problem 4\n",
      "\n",
      "Volume of sphere with radius 12 cm = 7241.142857142856 centemeter cube\n"
     ]
    }
   ],
   "source": [
    "print(\"Problem 4\\n\")\n",
    "r = 12 # radius in cm\n",
    "v = (4/3)* (22/7)* (r*r*r)\n",
    "\n",
    "print ('Volume of sphere with radius',r,'cm =', v, 'centemeter cube')"
   ]
  }
 ],
 "metadata": {
  "kernelspec": {
   "display_name": "Python 3",
   "language": "python",
   "name": "python3"
  },
  "language_info": {
   "codemirror_mode": {
    "name": "ipython",
    "version": 3
   },
   "file_extension": ".py",
   "mimetype": "text/x-python",
   "name": "python",
   "nbconvert_exporter": "python",
   "pygments_lexer": "ipython3",
   "version": "3.6.3"
  }
 },
 "nbformat": 4,
 "nbformat_minor": 2
}
